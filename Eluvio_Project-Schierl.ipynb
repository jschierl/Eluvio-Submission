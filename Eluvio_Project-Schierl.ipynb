{
 "cells": [
  {
   "cell_type": "code",
   "execution_count": 1,
   "id": "peaceful-laundry",
   "metadata": {},
   "outputs": [
    {
     "name": "stderr",
     "output_type": "stream",
     "text": [
      "/home/visionlab/miniconda3/lib/python3.7/site-packages/tensorflow/python/framework/dtypes.py:526: FutureWarning: Passing (type, 1) or '1type' as a synonym of type is deprecated; in a future version of numpy, it will be understood as (type, (1,)) / '(1,)type'.\n",
      "  _np_qint8 = np.dtype([(\"qint8\", np.int8, 1)])\n",
      "/home/visionlab/miniconda3/lib/python3.7/site-packages/tensorflow/python/framework/dtypes.py:527: FutureWarning: Passing (type, 1) or '1type' as a synonym of type is deprecated; in a future version of numpy, it will be understood as (type, (1,)) / '(1,)type'.\n",
      "  _np_quint8 = np.dtype([(\"quint8\", np.uint8, 1)])\n",
      "/home/visionlab/miniconda3/lib/python3.7/site-packages/tensorflow/python/framework/dtypes.py:528: FutureWarning: Passing (type, 1) or '1type' as a synonym of type is deprecated; in a future version of numpy, it will be understood as (type, (1,)) / '(1,)type'.\n",
      "  _np_qint16 = np.dtype([(\"qint16\", np.int16, 1)])\n",
      "/home/visionlab/miniconda3/lib/python3.7/site-packages/tensorflow/python/framework/dtypes.py:529: FutureWarning: Passing (type, 1) or '1type' as a synonym of type is deprecated; in a future version of numpy, it will be understood as (type, (1,)) / '(1,)type'.\n",
      "  _np_quint16 = np.dtype([(\"quint16\", np.uint16, 1)])\n",
      "/home/visionlab/miniconda3/lib/python3.7/site-packages/tensorflow/python/framework/dtypes.py:530: FutureWarning: Passing (type, 1) or '1type' as a synonym of type is deprecated; in a future version of numpy, it will be understood as (type, (1,)) / '(1,)type'.\n",
      "  _np_qint32 = np.dtype([(\"qint32\", np.int32, 1)])\n",
      "/home/visionlab/miniconda3/lib/python3.7/site-packages/tensorflow/python/framework/dtypes.py:535: FutureWarning: Passing (type, 1) or '1type' as a synonym of type is deprecated; in a future version of numpy, it will be understood as (type, (1,)) / '(1,)type'.\n",
      "  np_resource = np.dtype([(\"resource\", np.ubyte, 1)])\n"
     ]
    }
   ],
   "source": [
    "import os\n",
    "import datetime\n",
    "import tensorflow as tf\n",
    "import numpy as np\n",
    "import pandas as pd\n",
    "import io\n",
    "import nltk\n",
    "from nltk.tokenize import word_tokenize\n",
    "from tensorflow.keras.preprocessing.text import Tokenizer\n",
    "from tensorflow.keras.preprocessing.sequence import pad_sequences\n",
    "from tensorflow import keras\n",
    "from tensorflow.keras import layers\n",
    "from tensorflow.keras.callbacks import ModelCheckpoint"
   ]
  },
  {
   "cell_type": "code",
   "execution_count": null,
   "id": "dressed-moldova",
   "metadata": {},
   "outputs": [],
   "source": [
    "file_path = '/home/visionlab/Jon/Deep Learning Class/Eluvio/'"
   ]
  },
  {
   "cell_type": "code",
   "execution_count": 2,
   "id": "healthy-journey",
   "metadata": {},
   "outputs": [],
   "source": [
    "# Build the sequences from the df input\n",
    "def build_sequences(df, pre=True, show_word_indices=False):\n",
    "    # Get the sentences from the dataframe\n",
    "    sentences = df['title']\n",
    " \n",
    "    # Tokenize the data\n",
    "    tokenizer = Tokenizer(num_words=1000, lower= 1, oov_token=\"<OOV>\")\n",
    "    tokenizer.fit_on_texts(sentences)\n",
    " \n",
    "    # Show the word indices for debugging\n",
    "    if show_word_indices:\n",
    "        word_index = tokenizer.word_index\n",
    "        print(word_index)\n",
    " \n",
    "    # Convert the sentences to seqences\n",
    "    sequences = tokenizer.texts_to_sequences(sentences)\n",
    " \n",
    "    # Pad the sequences so they are all the same length\n",
    "    if pre:\n",
    "        padded_data = pad_sequences(sequences, padding='pre')\n",
    "    else:\n",
    "        padded_data = pad_sequences(sequences, padding='post')\n",
    " \n",
    "    # Get useful information about each sequence\n",
    "    num_sentences = len(sentences)\n",
    "    sentence_len = len(padded_data[0])\n",
    " \n",
    "    # Reshape for input\n",
    "    padded_data = np.array([padded_data]).reshape(num_sentences, sentence_len, 1)\n",
    "    return padded_data, sentence_len\n",
    " "
   ]
  },
  {
   "cell_type": "code",
   "execution_count": 3,
   "id": "published-inflation",
   "metadata": {},
   "outputs": [],
   "source": [
    "# Build the output directories for tensorboard\n",
    "def build_directories():\n",
    "    # Get the current directory and time\n",
    "    cwd = os.getcwd()\n",
    "    model_current_time = datetime.datetime.now().strftime(\"%b%d%H-%M-%S\")\n",
    " \n",
    "    # Create the log directory if it doesn't exist\n",
    "    log_dir = os.path.join(cwd, 'logs')\n",
    "    if not os.path.exists(log_dir):\n",
    "        os.mkdir(log_dir)\n",
    " \n",
    "    # Create the individual log directory if it doesn't exist\n",
    "    model_count = 0\n",
    "    original_path = log_dir\n",
    "    log_dir = os.path.join(original_path, f'model_{model_count}')\n",
    " \n",
    "    while os.path.exists(log_dir):\n",
    "        model_count += 1\n",
    "        log_dir = os.path.join(original_path, f'model_{model_count}')\n",
    " \n",
    "    return log_dir"
   ]
  },
  {
   "cell_type": "code",
   "execution_count": 4,
   "id": "civic-georgia",
   "metadata": {},
   "outputs": [],
   "source": [
    "# Build the dataset and labels\n",
    "def build_data(in_df):\n",
    "    data, sentence_len = build_sequences(in_df)\n",
    "    labels = np.array(in_df['up_votes'].astype('uint8'))\n",
    "    return data, labels, sentence_len"
   ]
  },
  {
   "cell_type": "code",
   "execution_count": 5,
   "id": "received-ceremony",
   "metadata": {},
   "outputs": [],
   "source": [
    "# Create the model\n",
    "def build_model(sentence_len):\n",
    "    act = 'relu'\n",
    "    model = keras.models.Sequential()\n",
    "    model.add(layers.LSTM(500, activation=act, return_sequences=True, input_shape=((sentence_len,1))))\n",
    "    model.add(layers.Dense(100, activation=act))\n",
    "    model.add(layers.Dense(50, activation=act))\n",
    "    model.add(layers.Dense(1, activation='linear'))\n",
    "    model.summary()\n",
    "    return model"
   ]
  },
  {
   "cell_type": "code",
   "execution_count": 6,
   "id": "military-bidder",
   "metadata": {},
   "outputs": [],
   "source": [
    "def run_model(path):\n",
    " \n",
    "    with open(path) as f:\n",
    "        df = pd.read_csv(f)\n",
    "        df.head()\n",
    "        padded_data, labels, sentence_len = build_data(df)\n",
    " \n",
    "        model = build_model(sentence_len)\n",
    " \n",
    "        # Model Parameters\n",
    "        num_epochs = 50\n",
    "        verbose = 1\n",
    "        batch_size = 320\n",
    "        \n",
    "        # Tensorboard callback\n",
    "        log_dir = build_directories()\n",
    "        tensorboard_callback = tf.keras.callbacks.TensorBoard(log_dir=log_dir, histogram_freq=1)\n",
    "        \n",
    "        # Best model callback\n",
    "        filepath = os.join(file_path, 'my_best_model.epoch{epoch:02d}-loss{mean_squared_error:.2f}.hdf5')\n",
    "        checkpoint = ModelCheckpoint(filepath=filepath, monitor='mean_squared_error', verbose=1, save_best_only=True, mode=min) \n",
    "        \n",
    "        # Define callbacks\n",
    "        callbacks = [tensorboard_callback, checkpoint]\n",
    " \n",
    "        # Compile the model using a mean squared error loss\n",
    "        model.compile(optimizer='adam', loss='mean_squared_error', metrics=['accuracy', 'mean_squared_error', 'mean_absolute_error'])\n",
    "        \n",
    "        # Fit the model\n",
    "        model.fit(padded_data, labels, batch_size=batch_size, epochs=num_epochs, verbose=verbose, validation_split=0.2, callbacks=callbacks)\n",
    " "
   ]
  },
  {
   "cell_type": "code",
   "execution_count": null,
   "id": "romantic-proposal",
   "metadata": {},
   "outputs": [
    {
     "name": "stdout",
     "output_type": "stream",
     "text": [
      "WARNING:tensorflow:From /home/visionlab/miniconda3/lib/python3.7/site-packages/tensorflow/python/ops/resource_variable_ops.py:435: colocate_with (from tensorflow.python.framework.ops) is deprecated and will be removed in a future version.\n",
      "Instructions for updating:\n",
      "Colocations handled automatically by placer.\n",
      "_________________________________________________________________\n",
      "Layer (type)                 Output Shape              Param #   \n",
      "=================================================================\n",
      "lstm (LSTM)                  (None, 63, 500)           1004000   \n",
      "_________________________________________________________________\n",
      "dense (Dense)                (None, 63, 100)           50100     \n",
      "_________________________________________________________________\n",
      "dense_1 (Dense)              (None, 63, 50)            5050      \n",
      "_________________________________________________________________\n",
      "dense_2 (Dense)              (None, 63, 1)             51        \n",
      "=================================================================\n",
      "Total params: 1,059,201\n",
      "Trainable params: 1,059,201\n",
      "Non-trainable params: 0\n",
      "_________________________________________________________________\n",
      "WARNING:tensorflow:From /home/visionlab/miniconda3/lib/python3.7/site-packages/tensorflow/python/keras/utils/losses_utils.py:170: to_float (from tensorflow.python.ops.math_ops) is deprecated and will be removed in a future version.\n",
      "Instructions for updating:\n",
      "Use tf.cast instead.\n",
      "WARNING:tensorflow:ModelCheckpoint mode <built-in function min> is unknown, fallback to auto mode.\n",
      "Train on 407388 samples, validate on 101848 samples\n",
      "WARNING:tensorflow:From /home/visionlab/miniconda3/lib/python3.7/site-packages/tensorflow/python/ops/math_ops.py:3066: to_int32 (from tensorflow.python.ops.math_ops) is deprecated and will be removed in a future version.\n",
      "Instructions for updating:\n",
      "Use tf.cast instead.\n"
     ]
    }
   ],
   "source": [
    "filename = \"Eluvio_DS_Challenge.csv\"\n",
    "run_model(os.join(file_path,filename))"
   ]
  },
  {
   "cell_type": "code",
   "execution_count": 80,
   "id": "graphic-pattern",
   "metadata": {},
   "outputs": [
    {
     "name": "stdout",
     "output_type": "stream",
     "text": [
      "[[[14.259061 ]\n",
      "  [14.566287 ]\n",
      "  [14.982493 ]\n",
      "  ...\n",
      "  [13.454431 ]\n",
      "  [13.235612 ]\n",
      "  [12.4011545]]\n",
      "\n",
      " [[14.259061 ]\n",
      "  [14.566287 ]\n",
      "  [14.982493 ]\n",
      "  ...\n",
      "  [14.240964 ]\n",
      "  [10.051866 ]\n",
      "  [14.211129 ]]\n",
      "\n",
      " [[14.259061 ]\n",
      "  [14.566287 ]\n",
      "  [14.982493 ]\n",
      "  ...\n",
      "  [14.352952 ]\n",
      "  [12.748651 ]\n",
      "  [12.126031 ]]\n",
      "\n",
      " ...\n",
      "\n",
      " [[14.259061 ]\n",
      "  [14.566287 ]\n",
      "  [14.982493 ]\n",
      "  ...\n",
      "  [15.425714 ]\n",
      "  [13.963937 ]\n",
      "  [12.157189 ]]\n",
      "\n",
      " [[14.259061 ]\n",
      "  [14.566287 ]\n",
      "  [14.982493 ]\n",
      "  ...\n",
      "  [14.864923 ]\n",
      "  [14.934037 ]\n",
      "  [14.657594 ]]\n",
      "\n",
      " [[14.259061 ]\n",
      "  [14.566287 ]\n",
      "  [14.982493 ]\n",
      "  ...\n",
      "  [14.437989 ]\n",
      "  [14.583459 ]\n",
      "  [14.124749 ]]]\n"
     ]
    }
   ],
   "source": [
    "#Predict on data set\n",
    "with open(os.join(file_path,filename)) as f:\n",
    "        df = pd.read_csv(f)\n",
    "        padded_data, labels, sentence_len = build_data(df)\n",
    "\n",
    "filepath = os.join(file_path, 'my_best_model.epoch13-loss1978.35.hdf5')\n",
    "\n",
    "# Load the model\n",
    "model = keras.models.load_model(filepath, compile = True)\n",
    "\n",
    "predictions = model.predict(padded_data)\n",
    "print(predictions)"
   ]
  },
  {
   "cell_type": "code",
   "execution_count": 3,
   "id": "weird-while",
   "metadata": {},
   "outputs": [
    {
     "ename": "NameError",
     "evalue": "name 'predictions' is not defined",
     "output_type": "error",
     "traceback": [
      "\u001b[0;31m---------------------------------------------------------------------------\u001b[0m",
      "\u001b[0;31mNameError\u001b[0m                                 Traceback (most recent call last)",
      "\u001b[0;32m<ipython-input-3-3b89382eb649>\u001b[0m in \u001b[0;36m<module>\u001b[0;34m\u001b[0m\n\u001b[0;32m----> 1\u001b[0;31m \u001b[0;32mfor\u001b[0m \u001b[0mj\u001b[0m \u001b[0;32min\u001b[0m \u001b[0mrange\u001b[0m\u001b[0;34m(\u001b[0m\u001b[0mlen\u001b[0m\u001b[0;34m(\u001b[0m\u001b[0mpredictions\u001b[0m\u001b[0;34m)\u001b[0m\u001b[0;34m)\u001b[0m\u001b[0;34m:\u001b[0m\u001b[0;34m\u001b[0m\u001b[0;34m\u001b[0m\u001b[0m\n\u001b[0m\u001b[1;32m      2\u001b[0m     \u001b[0mprint\u001b[0m\u001b[0;34m(\u001b[0m\u001b[0mmax\u001b[0m\u001b[0;34m(\u001b[0m\u001b[0mpredictions\u001b[0m\u001b[0;34m[\u001b[0m\u001b[0mj\u001b[0m\u001b[0;34m]\u001b[0m\u001b[0;34m)\u001b[0m\u001b[0;34m)\u001b[0m\u001b[0;34m\u001b[0m\u001b[0;34m\u001b[0m\u001b[0m\n",
      "\u001b[0;31mNameError\u001b[0m: name 'predictions' is not defined"
     ]
    }
   ],
   "source": [
    "for j in range(len(predictions)):\n",
    "    print(max(predictions[j]))"
   ]
  },
  {
   "cell_type": "code",
   "execution_count": null,
   "id": "urban-chicken",
   "metadata": {},
   "outputs": [],
   "source": [
    "#average upvotes = 112.2363\n",
    "#max upvotes\n",
    "#random guessing\n",
    "#std deviation"
   ]
  }
 ],
 "metadata": {
  "kernelspec": {
   "display_name": "Python 3",
   "language": "python",
   "name": "python3"
  },
  "language_info": {
   "codemirror_mode": {
    "name": "ipython",
    "version": 3
   },
   "file_extension": ".py",
   "mimetype": "text/x-python",
   "name": "python",
   "nbconvert_exporter": "python",
   "pygments_lexer": "ipython3",
   "version": "3.7.3"
  }
 },
 "nbformat": 4,
 "nbformat_minor": 5
}
